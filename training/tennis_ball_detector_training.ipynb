{
 "cells": [
  {
   "cell_type": "markdown",
   "metadata": {},
   "source": [
    "# Use in Google Colab if you have no idea how to force Windows to use Nvidia GPU "
   ]
  },
  {
   "cell_type": "markdown",
   "metadata": {},
   "source": [
    "# Install packages"
   ]
  },
  {
   "cell_type": "code",
   "execution_count": 14,
   "metadata": {},
   "outputs": [
    {
     "name": "stdout",
     "output_type": "stream",
     "text": [
      "Requirement already satisfied: ultralytics in f:\\onedrive\\github\\tennis_analyzer\\env\\lib\\site-packages (8.2.57)\n",
      "Requirement already satisfied: ultralytics-thop>=2.0.0 in f:\\onedrive\\github\\tennis_analyzer\\env\\lib\\site-packages (from ultralytics) (2.0.0)\n",
      "Requirement already satisfied: matplotlib>=3.3.0 in f:\\onedrive\\github\\tennis_analyzer\\env\\lib\\site-packages (from ultralytics) (3.9.1)\n",
      "Requirement already satisfied: py-cpuinfo in f:\\onedrive\\github\\tennis_analyzer\\env\\lib\\site-packages (from ultralytics) (9.0.0)\n",
      "Requirement already satisfied: pyyaml>=5.3.1 in f:\\onedrive\\github\\tennis_analyzer\\env\\lib\\site-packages (from ultralytics) (6.0.1)\n",
      "Requirement already satisfied: tqdm>=4.64.0 in f:\\onedrive\\github\\tennis_analyzer\\env\\lib\\site-packages (from ultralytics) (4.66.4)\n",
      "Requirement already satisfied: numpy<2.0.0,>=1.23.0 in f:\\onedrive\\github\\tennis_analyzer\\env\\lib\\site-packages (from ultralytics) (1.26.4)\n",
      "Requirement already satisfied: psutil in f:\\onedrive\\github\\tennis_analyzer\\env\\lib\\site-packages (from ultralytics) (6.0.0)\n",
      "Requirement already satisfied: scipy>=1.4.1 in f:\\onedrive\\github\\tennis_analyzer\\env\\lib\\site-packages (from ultralytics) (1.14.0)\n",
      "Requirement already satisfied: pillow>=7.1.2 in f:\\onedrive\\github\\tennis_analyzer\\env\\lib\\site-packages (from ultralytics) (10.4.0)\n",
      "Requirement already satisfied: pandas>=1.1.4 in f:\\onedrive\\github\\tennis_analyzer\\env\\lib\\site-packages (from ultralytics) (2.2.2)\n",
      "Requirement already satisfied: seaborn>=0.11.0 in f:\\onedrive\\github\\tennis_analyzer\\env\\lib\\site-packages (from ultralytics) (0.13.2)\n",
      "Requirement already satisfied: requests>=2.23.0 in f:\\onedrive\\github\\tennis_analyzer\\env\\lib\\site-packages (from ultralytics) (2.32.3)\n",
      "Requirement already satisfied: torchvision>=0.9.0 in f:\\onedrive\\github\\tennis_analyzer\\env\\lib\\site-packages (from ultralytics) (0.18.1+cu121)\n",
      "Requirement already satisfied: torch>=1.8.0 in f:\\onedrive\\github\\tennis_analyzer\\env\\lib\\site-packages (from ultralytics) (2.3.1+cu121)\n",
      "Requirement already satisfied: opencv-python>=4.6.0 in f:\\onedrive\\github\\tennis_analyzer\\env\\lib\\site-packages (from ultralytics) (4.10.0.84)\n",
      "Requirement already satisfied: kiwisolver>=1.3.1 in f:\\onedrive\\github\\tennis_analyzer\\env\\lib\\site-packages (from matplotlib>=3.3.0->ultralytics) (1.4.5)\n",
      "Requirement already satisfied: contourpy>=1.0.1 in f:\\onedrive\\github\\tennis_analyzer\\env\\lib\\site-packages (from matplotlib>=3.3.0->ultralytics) (1.2.1)\n",
      "Requirement already satisfied: pyparsing>=2.3.1 in f:\\onedrive\\github\\tennis_analyzer\\env\\lib\\site-packages (from matplotlib>=3.3.0->ultralytics) (3.1.2)\n",
      "Requirement already satisfied: fonttools>=4.22.0 in f:\\onedrive\\github\\tennis_analyzer\\env\\lib\\site-packages (from matplotlib>=3.3.0->ultralytics) (4.53.1)\n",
      "Requirement already satisfied: python-dateutil>=2.7 in f:\\onedrive\\github\\tennis_analyzer\\env\\lib\\site-packages (from matplotlib>=3.3.0->ultralytics) (2.9.0.post0)\n",
      "Requirement already satisfied: cycler>=0.10 in f:\\onedrive\\github\\tennis_analyzer\\env\\lib\\site-packages (from matplotlib>=3.3.0->ultralytics) (0.12.1)\n",
      "Requirement already satisfied: packaging>=20.0 in f:\\onedrive\\github\\tennis_analyzer\\env\\lib\\site-packages (from matplotlib>=3.3.0->ultralytics) (24.1)\n",
      "Requirement already satisfied: tzdata>=2022.7 in f:\\onedrive\\github\\tennis_analyzer\\env\\lib\\site-packages (from pandas>=1.1.4->ultralytics) (2024.1)\n",
      "Requirement already satisfied: pytz>=2020.1 in f:\\onedrive\\github\\tennis_analyzer\\env\\lib\\site-packages (from pandas>=1.1.4->ultralytics) (2024.1)\n",
      "Requirement already satisfied: charset-normalizer<4,>=2 in f:\\onedrive\\github\\tennis_analyzer\\env\\lib\\site-packages (from requests>=2.23.0->ultralytics) (3.3.2)\n",
      "Requirement already satisfied: certifi>=2017.4.17 in f:\\onedrive\\github\\tennis_analyzer\\env\\lib\\site-packages (from requests>=2.23.0->ultralytics) (2024.7.4)\n",
      "Requirement already satisfied: urllib3<3,>=1.21.1 in f:\\onedrive\\github\\tennis_analyzer\\env\\lib\\site-packages (from requests>=2.23.0->ultralytics) (2.2.2)\n",
      "Requirement already satisfied: idna<4,>=2.5 in f:\\onedrive\\github\\tennis_analyzer\\env\\lib\\site-packages (from requests>=2.23.0->ultralytics) (3.7)\n",
      "Requirement already satisfied: jinja2 in f:\\onedrive\\github\\tennis_analyzer\\env\\lib\\site-packages (from torch>=1.8.0->ultralytics) (3.1.4)\n",
      "Requirement already satisfied: typing-extensions>=4.8.0 in f:\\onedrive\\github\\tennis_analyzer\\env\\lib\\site-packages (from torch>=1.8.0->ultralytics) (4.12.2)\n",
      "Requirement already satisfied: mkl<=2021.4.0,>=2021.1.1 in f:\\onedrive\\github\\tennis_analyzer\\env\\lib\\site-packages (from torch>=1.8.0->ultralytics) (2021.4.0)\n",
      "Requirement already satisfied: fsspec in f:\\onedrive\\github\\tennis_analyzer\\env\\lib\\site-packages (from torch>=1.8.0->ultralytics) (2024.6.1)\n",
      "Requirement already satisfied: sympy in f:\\onedrive\\github\\tennis_analyzer\\env\\lib\\site-packages (from torch>=1.8.0->ultralytics) (1.13.0)\n",
      "Requirement already satisfied: filelock in f:\\onedrive\\github\\tennis_analyzer\\env\\lib\\site-packages (from torch>=1.8.0->ultralytics) (3.15.4)\n",
      "Requirement already satisfied: networkx in f:\\onedrive\\github\\tennis_analyzer\\env\\lib\\site-packages (from torch>=1.8.0->ultralytics) (3.3)\n",
      "Requirement already satisfied: colorama in f:\\onedrive\\github\\tennis_analyzer\\env\\lib\\site-packages (from tqdm>=4.64.0->ultralytics) (0.4.6)\n",
      "Requirement already satisfied: tbb==2021.* in f:\\onedrive\\github\\tennis_analyzer\\env\\lib\\site-packages (from mkl<=2021.4.0,>=2021.1.1->torch>=1.8.0->ultralytics) (2021.13.0)\n",
      "Requirement already satisfied: intel-openmp==2021.* in f:\\onedrive\\github\\tennis_analyzer\\env\\lib\\site-packages (from mkl<=2021.4.0,>=2021.1.1->torch>=1.8.0->ultralytics) (2021.4.0)\n",
      "Requirement already satisfied: six>=1.5 in f:\\onedrive\\github\\tennis_analyzer\\env\\lib\\site-packages (from python-dateutil>=2.7->matplotlib>=3.3.0->ultralytics) (1.16.0)\n",
      "Requirement already satisfied: MarkupSafe>=2.0 in f:\\onedrive\\github\\tennis_analyzer\\env\\lib\\site-packages (from jinja2->torch>=1.8.0->ultralytics) (2.1.5)\n",
      "Requirement already satisfied: mpmath<1.4,>=1.1.0 in f:\\onedrive\\github\\tennis_analyzer\\env\\lib\\site-packages (from sympy->torch>=1.8.0->ultralytics) (1.3.0)\n"
     ]
    },
    {
     "name": "stderr",
     "output_type": "stream",
     "text": [
      "\n",
      "[notice] A new release of pip available: 22.2.1 -> 24.1.2\n",
      "[notice] To update, run: python.exe -m pip install --upgrade pip\n"
     ]
    },
    {
     "name": "stdout",
     "output_type": "stream",
     "text": [
      "Requirement already satisfied: roboflow in f:\\onedrive\\github\\tennis_analyzer\\env\\lib\\site-packages (1.1.34)\n",
      "Requirement already satisfied: requests in f:\\onedrive\\github\\tennis_analyzer\\env\\lib\\site-packages (from roboflow) (2.32.3)\n",
      "Requirement already satisfied: opencv-python-headless==4.10.0.84 in f:\\onedrive\\github\\tennis_analyzer\\env\\lib\\site-packages (from roboflow) (4.10.0.84)\n",
      "Requirement already satisfied: requests-toolbelt in f:\\onedrive\\github\\tennis_analyzer\\env\\lib\\site-packages (from roboflow) (1.0.0)\n",
      "Requirement already satisfied: certifi in f:\\onedrive\\github\\tennis_analyzer\\env\\lib\\site-packages (from roboflow) (2024.7.4)\n",
      "Requirement already satisfied: tqdm>=4.41.0 in f:\\onedrive\\github\\tennis_analyzer\\env\\lib\\site-packages (from roboflow) (4.66.4)\n",
      "Requirement already satisfied: numpy>=1.18.5 in f:\\onedrive\\github\\tennis_analyzer\\env\\lib\\site-packages (from roboflow) (1.26.4)\n",
      "Requirement already satisfied: urllib3>=1.26.6 in f:\\onedrive\\github\\tennis_analyzer\\env\\lib\\site-packages (from roboflow) (2.2.2)\n",
      "Requirement already satisfied: cycler in f:\\onedrive\\github\\tennis_analyzer\\env\\lib\\site-packages (from roboflow) (0.12.1)\n",
      "Requirement already satisfied: python-magic in f:\\onedrive\\github\\tennis_analyzer\\env\\lib\\site-packages (from roboflow) (0.4.27)\n",
      "Requirement already satisfied: Pillow>=7.1.2 in f:\\onedrive\\github\\tennis_analyzer\\env\\lib\\site-packages (from roboflow) (10.4.0)\n",
      "Requirement already satisfied: kiwisolver>=1.3.1 in f:\\onedrive\\github\\tennis_analyzer\\env\\lib\\site-packages (from roboflow) (1.4.5)\n",
      "Requirement already satisfied: python-dateutil in f:\\onedrive\\github\\tennis_analyzer\\env\\lib\\site-packages (from roboflow) (2.9.0.post0)\n",
      "Requirement already satisfied: PyYAML>=5.3.1 in f:\\onedrive\\github\\tennis_analyzer\\env\\lib\\site-packages (from roboflow) (6.0.1)\n",
      "Requirement already satisfied: python-dotenv in f:\\onedrive\\github\\tennis_analyzer\\env\\lib\\site-packages (from roboflow) (1.0.1)\n",
      "Requirement already satisfied: chardet==4.0.0 in f:\\onedrive\\github\\tennis_analyzer\\env\\lib\\site-packages (from roboflow) (4.0.0)\n",
      "Requirement already satisfied: six in f:\\onedrive\\github\\tennis_analyzer\\env\\lib\\site-packages (from roboflow) (1.16.0)\n",
      "Requirement already satisfied: idna==3.7 in f:\\onedrive\\github\\tennis_analyzer\\env\\lib\\site-packages (from roboflow) (3.7)\n",
      "Requirement already satisfied: matplotlib in f:\\onedrive\\github\\tennis_analyzer\\env\\lib\\site-packages (from roboflow) (3.9.1)\n",
      "Requirement already satisfied: colorama in f:\\onedrive\\github\\tennis_analyzer\\env\\lib\\site-packages (from tqdm>=4.41.0->roboflow) (0.4.6)\n",
      "Requirement already satisfied: packaging>=20.0 in f:\\onedrive\\github\\tennis_analyzer\\env\\lib\\site-packages (from matplotlib->roboflow) (24.1)\n",
      "Requirement already satisfied: fonttools>=4.22.0 in f:\\onedrive\\github\\tennis_analyzer\\env\\lib\\site-packages (from matplotlib->roboflow) (4.53.1)\n",
      "Requirement already satisfied: pyparsing>=2.3.1 in f:\\onedrive\\github\\tennis_analyzer\\env\\lib\\site-packages (from matplotlib->roboflow) (3.1.2)\n",
      "Requirement already satisfied: contourpy>=1.0.1 in f:\\onedrive\\github\\tennis_analyzer\\env\\lib\\site-packages (from matplotlib->roboflow) (1.2.1)\n",
      "Requirement already satisfied: charset-normalizer<4,>=2 in f:\\onedrive\\github\\tennis_analyzer\\env\\lib\\site-packages (from requests->roboflow) (3.3.2)\n"
     ]
    },
    {
     "name": "stderr",
     "output_type": "stream",
     "text": [
      "\n",
      "[notice] A new release of pip available: 22.2.1 -> 24.1.2\n",
      "[notice] To update, run: python.exe -m pip install --upgrade pip\n"
     ]
    }
   ],
   "source": [
    "!pip install ultralytics\n",
    "!pip install roboflow\n"
   ]
  },
  {
   "cell_type": "markdown",
   "metadata": {},
   "source": [
    "# Use GPU if available"
   ]
  },
  {
   "cell_type": "code",
   "execution_count": 15,
   "metadata": {},
   "outputs": [
    {
     "name": "stdout",
     "output_type": "stream",
     "text": [
      "cuda:0\n"
     ]
    }
   ],
   "source": [
    "import torch\n",
    "device = torch.device(\"cuda:0\" if torch.cuda.is_available() else \"cpu\")\n",
    "print(device)"
   ]
  },
  {
   "cell_type": "markdown",
   "metadata": {},
   "source": [
    "# Get Dataset\n"
   ]
  },
  {
   "cell_type": "code",
   "execution_count": 16,
   "metadata": {},
   "outputs": [
    {
     "name": "stdout",
     "output_type": "stream",
     "text": [
      "loading Roboflow workspace...\n",
      "loading Roboflow project...\n"
     ]
    }
   ],
   "source": [
    "\n",
    "import os\n",
    "from roboflow import Roboflow\n",
    "rf = Roboflow(api_key=os.environ['ROBOFLOW_API_KEY'])\n",
    "project = rf.workspace(\"viren-dhanwani\").project(\"tennis-ball-detection\")\n",
    "version = project.version(6)\n",
    "dataset = version.download(\"yolov5\")\n"
   ]
  },
  {
   "cell_type": "markdown",
   "metadata": {},
   "source": [
    "# Fix DIR tree"
   ]
  },
  {
   "cell_type": "code",
   "execution_count": null,
   "metadata": {},
   "outputs": [],
   "source": [
    "import shutil\n",
    "\n",
    "shutil.move(\"tennis-ball-detection-6/train\", \n",
    "            \"tennis-ball-detection-6/tennis-ball-detection-6/train\"\n",
    ")\n",
    "\n",
    "shutil.move(\"tennis-ball-detection-6/test\", \n",
    "            \"tennis-ball-detection-6/tennis-ball-detection-6/test\"\n",
    ")\n",
    "\n",
    "shutil.move(\"tennis-ball-detection-6/valid\", \n",
    "            \"tennis-ball-detection-6/tennis-ball-detection-6/valid\"\n",
    ")\n"
   ]
  },
  {
   "cell_type": "markdown",
   "metadata": {},
   "source": [
    "# Train"
   ]
  },
  {
   "cell_type": "code",
   "execution_count": 19,
   "metadata": {},
   "outputs": [],
   "source": [
    "!yolo task=detect mode=train model=yolov5l6u.pt data={dataset.location}/data.yaml epochs=100 imgsz=640"
   ]
  },
  {
   "cell_type": "code",
   "execution_count": null,
   "metadata": {},
   "outputs": [],
   "source": []
  }
 ],
 "metadata": {
  "kernelspec": {
   "display_name": "env",
   "language": "python",
   "name": "python3"
  },
  "language_info": {
   "codemirror_mode": {
    "name": "ipython",
    "version": 3
   },
   "file_extension": ".py",
   "mimetype": "text/x-python",
   "name": "python",
   "nbconvert_exporter": "python",
   "pygments_lexer": "ipython3",
   "version": "3.10.6"
  }
 },
 "nbformat": 4,
 "nbformat_minor": 2
}
